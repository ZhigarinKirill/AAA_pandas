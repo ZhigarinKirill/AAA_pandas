{
 "cells": [
  {
   "cell_type": "code",
   "execution_count": 149,
   "id": "815978a1-e592-4971-ae70-ba4e3839b02e",
   "metadata": {},
   "outputs": [],
   "source": [
    "import pandas as pd\n",
    "import numpy as np\n",
    "import seaborn as sns"
   ]
  },
  {
   "cell_type": "code",
   "execution_count": 10,
   "id": "8a071647-2b0b-46b3-96a6-a8befff3f412",
   "metadata": {},
   "outputs": [],
   "source": [
    "netflix = pd.read_csv('https://raw.githubusercontent.com/ZhigarinKirill/AAA_pandas/main/netflix%20price%20in%20different%20countries.csv', sep=',')"
   ]
  },
  {
   "cell_type": "code",
   "execution_count": 11,
   "id": "194b4fc5-612b-437c-a387-99c93648449b",
   "metadata": {},
   "outputs": [
    {
     "data": {
      "text/plain": [
       "(65, 7)"
      ]
     },
     "execution_count": 11,
     "metadata": {},
     "output_type": "execute_result"
    }
   ],
   "source": [
    "netflix.shape"
   ]
  },
  {
   "cell_type": "code",
   "execution_count": 12,
   "id": "632d1b15-238b-49e6-b070-1993b727072e",
   "metadata": {},
   "outputs": [
    {
     "data": {
      "text/html": [
       "<div>\n",
       "<style scoped>\n",
       "    .dataframe tbody tr th:only-of-type {\n",
       "        vertical-align: middle;\n",
       "    }\n",
       "\n",
       "    .dataframe tbody tr th {\n",
       "        vertical-align: top;\n",
       "    }\n",
       "\n",
       "    .dataframe thead th {\n",
       "        text-align: right;\n",
       "    }\n",
       "</style>\n",
       "<table border=\"1\" class=\"dataframe\">\n",
       "  <thead>\n",
       "    <tr style=\"text-align: right;\">\n",
       "      <th></th>\n",
       "      <th>Country</th>\n",
       "      <th>Total Library Size</th>\n",
       "      <th>No. of TV Shows</th>\n",
       "      <th>No. of Movies</th>\n",
       "      <th>Cost Per Month - Basic ($)</th>\n",
       "      <th>Cost Per Month - Standard ($)</th>\n",
       "      <th>Cost Per Month - Premium ($)</th>\n",
       "    </tr>\n",
       "  </thead>\n",
       "  <tbody>\n",
       "    <tr>\n",
       "      <th>0</th>\n",
       "      <td>Argentina</td>\n",
       "      <td>4760</td>\n",
       "      <td>3154</td>\n",
       "      <td>1606</td>\n",
       "      <td>3.74</td>\n",
       "      <td>6.30</td>\n",
       "      <td>9.26</td>\n",
       "    </tr>\n",
       "    <tr>\n",
       "      <th>1</th>\n",
       "      <td>Austria</td>\n",
       "      <td>5640</td>\n",
       "      <td>3779</td>\n",
       "      <td>1861</td>\n",
       "      <td>9.03</td>\n",
       "      <td>14.67</td>\n",
       "      <td>20.32</td>\n",
       "    </tr>\n",
       "    <tr>\n",
       "      <th>2</th>\n",
       "      <td>Bolivia</td>\n",
       "      <td>4991</td>\n",
       "      <td>3155</td>\n",
       "      <td>1836</td>\n",
       "      <td>7.99</td>\n",
       "      <td>10.99</td>\n",
       "      <td>13.99</td>\n",
       "    </tr>\n",
       "    <tr>\n",
       "      <th>3</th>\n",
       "      <td>Bulgaria</td>\n",
       "      <td>6797</td>\n",
       "      <td>4819</td>\n",
       "      <td>1978</td>\n",
       "      <td>9.03</td>\n",
       "      <td>11.29</td>\n",
       "      <td>13.54</td>\n",
       "    </tr>\n",
       "    <tr>\n",
       "      <th>4</th>\n",
       "      <td>Chile</td>\n",
       "      <td>4994</td>\n",
       "      <td>3156</td>\n",
       "      <td>1838</td>\n",
       "      <td>7.07</td>\n",
       "      <td>9.91</td>\n",
       "      <td>12.74</td>\n",
       "    </tr>\n",
       "  </tbody>\n",
       "</table>\n",
       "</div>"
      ],
      "text/plain": [
       "     Country  Total Library Size  No. of TV Shows  No. of Movies  \\\n",
       "0  Argentina                4760             3154           1606   \n",
       "1    Austria                5640             3779           1861   \n",
       "2    Bolivia                4991             3155           1836   \n",
       "3   Bulgaria                6797             4819           1978   \n",
       "4      Chile                4994             3156           1838   \n",
       "\n",
       "   Cost Per Month - Basic ($)  Cost Per Month - Standard ($)  \\\n",
       "0                        3.74                           6.30   \n",
       "1                        9.03                          14.67   \n",
       "2                        7.99                          10.99   \n",
       "3                        9.03                          11.29   \n",
       "4                        7.07                           9.91   \n",
       "\n",
       "   Cost Per Month - Premium ($)  \n",
       "0                          9.26  \n",
       "1                         20.32  \n",
       "2                         13.99  \n",
       "3                         13.54  \n",
       "4                         12.74  "
      ]
     },
     "execution_count": 12,
     "metadata": {},
     "output_type": "execute_result"
    }
   ],
   "source": [
    "netflix.head()"
   ]
  },
  {
   "cell_type": "markdown",
   "id": "4ea64750-7c08-45e7-bb5c-c002c5ad8ee5",
   "metadata": {
    "jp-MarkdownHeadingCollapsed": true,
    "tags": []
   },
   "source": [
    "#### Найдем таблицу среднего дохода в разных странах и сохраним ее на github"
   ]
  },
  {
   "cell_type": "code",
   "execution_count": 27,
   "id": "9bb93e2f-fd8f-43eb-818f-8143e25e45c3",
   "metadata": {
    "tags": []
   },
   "outputs": [
    {
     "data": {
      "text/html": [
       "<div>\n",
       "<style scoped>\n",
       "    .dataframe tbody tr th:only-of-type {\n",
       "        vertical-align: middle;\n",
       "    }\n",
       "\n",
       "    .dataframe tbody tr th {\n",
       "        vertical-align: top;\n",
       "    }\n",
       "\n",
       "    .dataframe thead th {\n",
       "        text-align: right;\n",
       "    }\n",
       "</style>\n",
       "<table border=\"1\" class=\"dataframe\">\n",
       "  <thead>\n",
       "    <tr style=\"text-align: right;\">\n",
       "      <th></th>\n",
       "      <th>index</th>\n",
       "      <th>Country</th>\n",
       "      <th>year</th>\n",
       "      <th>month</th>\n",
       "    </tr>\n",
       "  </thead>\n",
       "  <tbody>\n",
       "    <tr>\n",
       "      <th>0</th>\n",
       "      <td>1</td>\n",
       "      <td>Monaco</td>\n",
       "      <td>186,080 $</td>\n",
       "      <td>15,507 $</td>\n",
       "    </tr>\n",
       "    <tr>\n",
       "      <th>1</th>\n",
       "      <td>2</td>\n",
       "      <td>Bermuda</td>\n",
       "      <td>112,240 $</td>\n",
       "      <td>9,353 $</td>\n",
       "    </tr>\n",
       "    <tr>\n",
       "      <th>2</th>\n",
       "      <td>3</td>\n",
       "      <td>Switzerland</td>\n",
       "      <td>82,620 $</td>\n",
       "      <td>6,885 $</td>\n",
       "    </tr>\n",
       "    <tr>\n",
       "      <th>3</th>\n",
       "      <td>4</td>\n",
       "      <td>Luxembourg</td>\n",
       "      <td>80,860 $</td>\n",
       "      <td>6,738 $</td>\n",
       "    </tr>\n",
       "    <tr>\n",
       "      <th>4</th>\n",
       "      <td>5</td>\n",
       "      <td>Norway</td>\n",
       "      <td>78,290 $</td>\n",
       "      <td>6,524 $</td>\n",
       "    </tr>\n",
       "  </tbody>\n",
       "</table>\n",
       "</div>"
      ],
      "text/plain": [
       "   index      Country       year     month\n",
       "0      1       Monaco  186,080 $  15,507 $\n",
       "1      2      Bermuda  112,240 $   9,353 $\n",
       "2      3  Switzerland   82,620 $   6,885 $\n",
       "3      4   Luxembourg   80,860 $   6,738 $\n",
       "4      5       Norway   78,290 $   6,524 $"
      ]
     },
     "execution_count": 27,
     "metadata": {},
     "output_type": "execute_result"
    }
   ],
   "source": [
    "country_income = pd.read_clipboard(header=None, names=['index', 'Country', 'year', 'month'])\n",
    "country_income.head()"
   ]
  },
  {
   "cell_type": "code",
   "execution_count": 28,
   "id": "f9f413d7-4d10-4793-8119-36a20b3c2493",
   "metadata": {
    "tags": []
   },
   "outputs": [],
   "source": [
    "country_income.drop(columns=['index'], inplace=True)"
   ]
  },
  {
   "cell_type": "code",
   "execution_count": 29,
   "id": "c97ec1dc-782b-470c-a4bd-d821b8cfd0ed",
   "metadata": {
    "tags": []
   },
   "outputs": [
    {
     "data": {
      "text/html": [
       "<div>\n",
       "<style scoped>\n",
       "    .dataframe tbody tr th:only-of-type {\n",
       "        vertical-align: middle;\n",
       "    }\n",
       "\n",
       "    .dataframe tbody tr th {\n",
       "        vertical-align: top;\n",
       "    }\n",
       "\n",
       "    .dataframe thead th {\n",
       "        text-align: right;\n",
       "    }\n",
       "</style>\n",
       "<table border=\"1\" class=\"dataframe\">\n",
       "  <thead>\n",
       "    <tr style=\"text-align: right;\">\n",
       "      <th></th>\n",
       "      <th>Country</th>\n",
       "      <th>year</th>\n",
       "      <th>month</th>\n",
       "    </tr>\n",
       "  </thead>\n",
       "  <tbody>\n",
       "    <tr>\n",
       "      <th>0</th>\n",
       "      <td>Monaco</td>\n",
       "      <td>186,080 $</td>\n",
       "      <td>15,507 $</td>\n",
       "    </tr>\n",
       "    <tr>\n",
       "      <th>1</th>\n",
       "      <td>Bermuda</td>\n",
       "      <td>112,240 $</td>\n",
       "      <td>9,353 $</td>\n",
       "    </tr>\n",
       "    <tr>\n",
       "      <th>2</th>\n",
       "      <td>Switzerland</td>\n",
       "      <td>82,620 $</td>\n",
       "      <td>6,885 $</td>\n",
       "    </tr>\n",
       "    <tr>\n",
       "      <th>3</th>\n",
       "      <td>Luxembourg</td>\n",
       "      <td>80,860 $</td>\n",
       "      <td>6,738 $</td>\n",
       "    </tr>\n",
       "    <tr>\n",
       "      <th>4</th>\n",
       "      <td>Norway</td>\n",
       "      <td>78,290 $</td>\n",
       "      <td>6,524 $</td>\n",
       "    </tr>\n",
       "  </tbody>\n",
       "</table>\n",
       "</div>"
      ],
      "text/plain": [
       "       Country       year     month\n",
       "0       Monaco  186,080 $  15,507 $\n",
       "1      Bermuda  112,240 $   9,353 $\n",
       "2  Switzerland   82,620 $   6,885 $\n",
       "3   Luxembourg   80,860 $   6,738 $\n",
       "4       Norway   78,290 $   6,524 $"
      ]
     },
     "execution_count": 29,
     "metadata": {},
     "output_type": "execute_result"
    }
   ],
   "source": [
    "country_income.head()"
   ]
  },
  {
   "cell_type": "code",
   "execution_count": 57,
   "id": "20276bc0-46ad-491a-9dd0-8fd095f78ffd",
   "metadata": {
    "tags": []
   },
   "outputs": [],
   "source": [
    "country_income.to_csv('country_income.csv', index=False)"
   ]
  },
  {
   "cell_type": "markdown",
   "id": "360e56c5-ddc4-4fc1-befb-ca137b245bf2",
   "metadata": {},
   "source": [
    "#### Загрузим таблицу дохода"
   ]
  },
  {
   "cell_type": "code",
   "execution_count": 16,
   "id": "a0bc51ed-0426-4aaf-b8a4-cec117f5326e",
   "metadata": {},
   "outputs": [
    {
     "data": {
      "text/html": [
       "<div>\n",
       "<style scoped>\n",
       "    .dataframe tbody tr th:only-of-type {\n",
       "        vertical-align: middle;\n",
       "    }\n",
       "\n",
       "    .dataframe tbody tr th {\n",
       "        vertical-align: top;\n",
       "    }\n",
       "\n",
       "    .dataframe thead th {\n",
       "        text-align: right;\n",
       "    }\n",
       "</style>\n",
       "<table border=\"1\" class=\"dataframe\">\n",
       "  <thead>\n",
       "    <tr style=\"text-align: right;\">\n",
       "      <th></th>\n",
       "      <th>Country</th>\n",
       "      <th>year</th>\n",
       "      <th>month</th>\n",
       "    </tr>\n",
       "  </thead>\n",
       "  <tbody>\n",
       "    <tr>\n",
       "      <th>0</th>\n",
       "      <td>Monaco</td>\n",
       "      <td>186,080 $</td>\n",
       "      <td>15,507 $</td>\n",
       "    </tr>\n",
       "    <tr>\n",
       "      <th>1</th>\n",
       "      <td>Bermuda</td>\n",
       "      <td>112,240 $</td>\n",
       "      <td>9,353 $</td>\n",
       "    </tr>\n",
       "    <tr>\n",
       "      <th>2</th>\n",
       "      <td>Switzerland</td>\n",
       "      <td>82,620 $</td>\n",
       "      <td>6,885 $</td>\n",
       "    </tr>\n",
       "    <tr>\n",
       "      <th>3</th>\n",
       "      <td>Czech Republic</td>\n",
       "      <td>29,885 $</td>\n",
       "      <td>2,490 $</td>\n",
       "    </tr>\n",
       "    <tr>\n",
       "      <th>4</th>\n",
       "      <td>Chile</td>\n",
       "      <td>26,729 $</td>\n",
       "      <td>2,227 $</td>\n",
       "    </tr>\n",
       "  </tbody>\n",
       "</table>\n",
       "</div>"
      ],
      "text/plain": [
       "          Country       year     month\n",
       "0          Monaco  186,080 $  15,507 $\n",
       "1         Bermuda  112,240 $   9,353 $\n",
       "2     Switzerland   82,620 $   6,885 $\n",
       "3  Czech Republic   29,885 $   2,490 $\n",
       "4           Chile   26,729 $   2,227 $"
      ]
     },
     "execution_count": 16,
     "metadata": {},
     "output_type": "execute_result"
    }
   ],
   "source": [
    "country_avg_income = pd.read_csv('https://raw.githubusercontent.com/ZhigarinKirill/AAA_pandas/main/country_income.csv', sep=',')\n",
    "country_avg_income.head()"
   ]
  },
  {
   "cell_type": "code",
   "execution_count": 17,
   "id": "b0303655-c6a5-4fcd-b521-66070f5927e1",
   "metadata": {},
   "outputs": [],
   "source": [
    "country_avg_income.drop(columns='year', inplace=True)"
   ]
  },
  {
   "cell_type": "code",
   "execution_count": 18,
   "id": "1fa60702-a5f4-4074-b0de-6a7ad72ca0bd",
   "metadata": {},
   "outputs": [],
   "source": [
    "import re"
   ]
  },
  {
   "cell_type": "code",
   "execution_count": 19,
   "id": "859e77fe-28b6-4c5e-9dbb-2738be629402",
   "metadata": {},
   "outputs": [
    {
     "data": {
      "text/html": [
       "<div>\n",
       "<style scoped>\n",
       "    .dataframe tbody tr th:only-of-type {\n",
       "        vertical-align: middle;\n",
       "    }\n",
       "\n",
       "    .dataframe tbody tr th {\n",
       "        vertical-align: top;\n",
       "    }\n",
       "\n",
       "    .dataframe thead th {\n",
       "        text-align: right;\n",
       "    }\n",
       "</style>\n",
       "<table border=\"1\" class=\"dataframe\">\n",
       "  <thead>\n",
       "    <tr style=\"text-align: right;\">\n",
       "      <th></th>\n",
       "      <th>Country</th>\n",
       "      <th>month</th>\n",
       "      <th>int_month</th>\n",
       "    </tr>\n",
       "  </thead>\n",
       "  <tbody>\n",
       "    <tr>\n",
       "      <th>0</th>\n",
       "      <td>Monaco</td>\n",
       "      <td>15,507 $</td>\n",
       "      <td>15507</td>\n",
       "    </tr>\n",
       "    <tr>\n",
       "      <th>1</th>\n",
       "      <td>Bermuda</td>\n",
       "      <td>9,353 $</td>\n",
       "      <td>9353</td>\n",
       "    </tr>\n",
       "    <tr>\n",
       "      <th>2</th>\n",
       "      <td>Switzerland</td>\n",
       "      <td>6,885 $</td>\n",
       "      <td>6885</td>\n",
       "    </tr>\n",
       "    <tr>\n",
       "      <th>3</th>\n",
       "      <td>Czech Republic</td>\n",
       "      <td>2,490 $</td>\n",
       "      <td>2490</td>\n",
       "    </tr>\n",
       "    <tr>\n",
       "      <th>4</th>\n",
       "      <td>Chile</td>\n",
       "      <td>2,227 $</td>\n",
       "      <td>2227</td>\n",
       "    </tr>\n",
       "  </tbody>\n",
       "</table>\n",
       "</div>"
      ],
      "text/plain": [
       "          Country     month  int_month\n",
       "0          Monaco  15,507 $      15507\n",
       "1         Bermuda   9,353 $       9353\n",
       "2     Switzerland   6,885 $       6885\n",
       "3  Czech Republic   2,490 $       2490\n",
       "4           Chile   2,227 $       2227"
      ]
     },
     "execution_count": 19,
     "metadata": {},
     "output_type": "execute_result"
    }
   ],
   "source": [
    "country_avg_income['int_month'] = country_avg_income.month.apply(lambda s: int(re.sub(r'[ $,]', '', s)))\n",
    "country_avg_income.head()"
   ]
  },
  {
   "cell_type": "markdown",
   "id": "e4a7d2b7-54cf-4725-aae3-6c83076a08e9",
   "metadata": {},
   "source": [
    "#### Валюта стран"
   ]
  },
  {
   "cell_type": "code",
   "execution_count": 6,
   "id": "4f4613b8-c518-4dfc-9960-0fa86456a95e",
   "metadata": {},
   "outputs": [
    {
     "data": {
      "text/html": [
       "<div>\n",
       "<style scoped>\n",
       "    .dataframe tbody tr th:only-of-type {\n",
       "        vertical-align: middle;\n",
       "    }\n",
       "\n",
       "    .dataframe tbody tr th {\n",
       "        vertical-align: top;\n",
       "    }\n",
       "\n",
       "    .dataframe thead th {\n",
       "        text-align: right;\n",
       "    }\n",
       "</style>\n",
       "<table border=\"1\" class=\"dataframe\">\n",
       "  <thead>\n",
       "    <tr style=\"text-align: right;\">\n",
       "      <th></th>\n",
       "      <th>Country</th>\n",
       "      <th>Mobile</th>\n",
       "      <th>Basic</th>\n",
       "      <th>Standard</th>\n",
       "      <th>Premium</th>\n",
       "      <th>Unnamed: 5</th>\n",
       "    </tr>\n",
       "  </thead>\n",
       "  <tbody>\n",
       "    <tr>\n",
       "      <th>0</th>\n",
       "      <td>Argentina</td>\n",
       "      <td>NaN</td>\n",
       "      <td>379.00</td>\n",
       "      <td>639.00</td>\n",
       "      <td>939.00</td>\n",
       "      <td>ARS</td>\n",
       "    </tr>\n",
       "    <tr>\n",
       "      <th>1</th>\n",
       "      <td>Australia</td>\n",
       "      <td>NaN</td>\n",
       "      <td>10.99</td>\n",
       "      <td>16.99</td>\n",
       "      <td>22.99</td>\n",
       "      <td>AUS</td>\n",
       "    </tr>\n",
       "    <tr>\n",
       "      <th>2</th>\n",
       "      <td>Austria</td>\n",
       "      <td>NaN</td>\n",
       "      <td>7.99</td>\n",
       "      <td>12.99</td>\n",
       "      <td>17.99</td>\n",
       "      <td>EUR</td>\n",
       "    </tr>\n",
       "    <tr>\n",
       "      <th>3</th>\n",
       "      <td>Belgium</td>\n",
       "      <td>NaN</td>\n",
       "      <td>8.99</td>\n",
       "      <td>13.49</td>\n",
       "      <td>17.99</td>\n",
       "      <td>EUR</td>\n",
       "    </tr>\n",
       "    <tr>\n",
       "      <th>4</th>\n",
       "      <td>Bolivia</td>\n",
       "      <td>NaN</td>\n",
       "      <td>7.99</td>\n",
       "      <td>10.99</td>\n",
       "      <td>13.99</td>\n",
       "      <td>USD</td>\n",
       "    </tr>\n",
       "  </tbody>\n",
       "</table>\n",
       "</div>"
      ],
      "text/plain": [
       "     Country  Mobile   Basic  Standard  Premium Unnamed: 5\n",
       "0  Argentina     NaN  379.00    639.00   939.00        ARS\n",
       "1  Australia     NaN   10.99     16.99    22.99        AUS\n",
       "2    Austria     NaN    7.99     12.99    17.99        EUR\n",
       "3    Belgium     NaN    8.99     13.49    17.99        EUR\n",
       "4    Bolivia     NaN    7.99     10.99    13.99        USD"
      ]
     },
     "execution_count": 6,
     "metadata": {},
     "output_type": "execute_result"
    }
   ],
   "source": [
    "country_currencies = pd.read_csv('https://docs.google.com/spreadsheets/d/1Tc_aiVXrCrMNQFFDMiJGQ3Gm35szGLps_FIsonCe38Q/export?gid=481487463&format=csv')\n",
    "country_currencies.head()"
   ]
  },
  {
   "cell_type": "code",
   "execution_count": 7,
   "id": "d750bba9-a522-41d7-8c65-c80a278383f4",
   "metadata": {},
   "outputs": [
    {
     "data": {
      "text/html": [
       "<div>\n",
       "<style scoped>\n",
       "    .dataframe tbody tr th:only-of-type {\n",
       "        vertical-align: middle;\n",
       "    }\n",
       "\n",
       "    .dataframe tbody tr th {\n",
       "        vertical-align: top;\n",
       "    }\n",
       "\n",
       "    .dataframe thead th {\n",
       "        text-align: right;\n",
       "    }\n",
       "</style>\n",
       "<table border=\"1\" class=\"dataframe\">\n",
       "  <thead>\n",
       "    <tr style=\"text-align: right;\">\n",
       "      <th></th>\n",
       "      <th>Country</th>\n",
       "      <th>currency</th>\n",
       "    </tr>\n",
       "  </thead>\n",
       "  <tbody>\n",
       "    <tr>\n",
       "      <th>0</th>\n",
       "      <td>Argentina</td>\n",
       "      <td>ARS</td>\n",
       "    </tr>\n",
       "    <tr>\n",
       "      <th>1</th>\n",
       "      <td>Australia</td>\n",
       "      <td>AUS</td>\n",
       "    </tr>\n",
       "    <tr>\n",
       "      <th>2</th>\n",
       "      <td>Austria</td>\n",
       "      <td>EUR</td>\n",
       "    </tr>\n",
       "    <tr>\n",
       "      <th>3</th>\n",
       "      <td>Belgium</td>\n",
       "      <td>EUR</td>\n",
       "    </tr>\n",
       "    <tr>\n",
       "      <th>4</th>\n",
       "      <td>Bolivia</td>\n",
       "      <td>USD</td>\n",
       "    </tr>\n",
       "  </tbody>\n",
       "</table>\n",
       "</div>"
      ],
      "text/plain": [
       "     Country currency\n",
       "0  Argentina      ARS\n",
       "1  Australia      AUS\n",
       "2    Austria      EUR\n",
       "3    Belgium      EUR\n",
       "4    Bolivia      USD"
      ]
     },
     "execution_count": 7,
     "metadata": {},
     "output_type": "execute_result"
    }
   ],
   "source": [
    "country_currencies.drop(columns=['Mobile', 'Basic', 'Standard', 'Premium'], inplace=True)\n",
    "country_currencies.rename(columns={'Unnamed: 5': 'currency'}, inplace=True)\n",
    "country_currencies.head()"
   ]
  },
  {
   "cell_type": "markdown",
   "id": "0d535a16-d8fa-435f-a936-99b7a4e2f3eb",
   "metadata": {
    "jp-MarkdownHeadingCollapsed": true,
    "tags": []
   },
   "source": [
    "#### Континенты стран"
   ]
  },
  {
   "cell_type": "code",
   "execution_count": 163,
   "id": "f481c834-d0ba-483d-8f27-26ce86f98c64",
   "metadata": {
    "jupyter": {
     "source_hidden": true
    },
    "tags": []
   },
   "outputs": [],
   "source": [
    "s = \"\"\"Algeria\n",
    "Angola\n",
    "Benin\n",
    "Botswana\n",
    "Burkina Faso\n",
    "Burundi\n",
    "Cabo Verde\n",
    "Cameroon\n",
    "Central African Republic\n",
    "Chad\n",
    "Comoros\n",
    "Congo\n",
    "Congo\n",
    "Djibouti\n",
    "Egypt\n",
    "Equatorial Guinea\n",
    "Eritrea\n",
    "Eswatini\n",
    "Ethiopia\n",
    "Gabon\n",
    "Gambia\n",
    "Ghana\n",
    "Guinea\n",
    "Guinea-Bissau\n",
    "Ivory Coast\n",
    "Kenya\n",
    "Lesotho\n",
    "Liberia\n",
    "Libya\n",
    "Madagascar\n",
    "Malawi\n",
    "Mali\n",
    "Mauritania\n",
    "Mauritius\n",
    "Morocco\n",
    "Mozambique\n",
    "Namibia\n",
    "Niger\n",
    "Nigeria\n",
    "Rwanda\n",
    "Sao Tome and Principe\n",
    "Senegal\n",
    "Seychelles\n",
    "Sierra Leone\n",
    "Somalia\n",
    "South Africa\n",
    "South Sudan\n",
    "Sudan\n",
    "Tanzania\n",
    "Togo\n",
    "Tunisia\n",
    "Uganda\n",
    "Zambia\n",
    "Zimbabwe\"\"\""
   ]
  },
  {
   "cell_type": "code",
   "execution_count": 164,
   "id": "59e58e00-735a-46cd-a162-ee6b7ac87450",
   "metadata": {
    "collapsed": true,
    "jupyter": {
     "outputs_hidden": true,
     "source_hidden": true
    },
    "tags": []
   },
   "outputs": [],
   "source": [
    "africa_country = s.split('\\n')"
   ]
  },
  {
   "cell_type": "code",
   "execution_count": 165,
   "id": "a7adb174-fe69-46d1-aab3-103127124333",
   "metadata": {
    "collapsed": true,
    "jupyter": {
     "outputs_hidden": true,
     "source_hidden": true
    }
   },
   "outputs": [
    {
     "name": "stdout",
     "output_type": "stream",
     "text": [
      "South Africa\n"
     ]
    }
   ],
   "source": [
    "i = 0\n",
    "africa_country1 = []\n",
    "for c in africa_country:\n",
    "    if c in list(netflix.Country):\n",
    "        print(c)\n",
    "        i += 1\n",
    "        africa_country1.append(c)"
   ]
  },
  {
   "cell_type": "code",
   "execution_count": 166,
   "id": "2563cb31-2b91-4d57-8a95-81d7e7269438",
   "metadata": {
    "collapsed": true,
    "jupyter": {
     "outputs_hidden": true,
     "source_hidden": true
    }
   },
   "outputs": [
    {
     "data": {
      "text/plain": [
       "1"
      ]
     },
     "execution_count": 166,
     "metadata": {},
     "output_type": "execute_result"
    }
   ],
   "source": [
    "i"
   ]
  },
  {
   "cell_type": "code",
   "execution_count": 167,
   "id": "f574b4bd-fcba-49ec-952a-292b368ffd29",
   "metadata": {
    "collapsed": true,
    "jupyter": {
     "outputs_hidden": true,
     "source_hidden": true
    }
   },
   "outputs": [],
   "source": [
    "s=\"\"\"Afghanistan\n",
    "Armenia\n",
    "Azerbaijan\n",
    "Bahrain\n",
    "Bangladesh\n",
    "Bhutan\n",
    "British Indian Ocean Territory\n",
    "Brunei\n",
    "Cambodia\n",
    "China\n",
    "Cyprus\n",
    "Egypt\n",
    "Georgia\n",
    "Hong Kong\n",
    "India\n",
    "Indonesia\n",
    "Iran\n",
    "Iraq\n",
    "Israel\n",
    "Japan\n",
    "Jordan\n",
    "Kazakhstan\n",
    "Kuwait\n",
    "Kyrgyzstan\n",
    "Laos\n",
    "Lebanon\n",
    "Macau\n",
    "Malaysia\n",
    "Maldives\n",
    "Mongolia\n",
    "Myanmar\n",
    "Nepal\n",
    "North Korea\n",
    "Oman\n",
    "Pakistan\n",
    "Palestine\n",
    "Philippines\n",
    "Qatar\n",
    "Saudi Arabia\n",
    "Singapore\n",
    "South Korea\n",
    "Sri Lanka\n",
    "Syria\n",
    "Taiwan\n",
    "Tajikistan\n",
    "Thailand\n",
    "Timor-Leste\n",
    "Turkey\n",
    "Turkmenistan\n",
    "United Arab Emirates\n",
    "Uzbekistan\n",
    "Vietnam\n",
    "Yemen\n",
    "Albania\n",
    "Andorra\n",
    "Armenia\n",
    "Austria\n",
    "Azerbaijan\n",
    "Belarus\n",
    "Belgium\n",
    "Bosnia and Herzegovina\n",
    "Bulgaria\n",
    "Croatia\n",
    "Cyprus\n",
    "Czechia\n",
    "Denmark\n",
    "Estonia\n",
    "Finland\n",
    "France\n",
    "Georgia\n",
    "Germany\n",
    "Greece\n",
    "Hungary\n",
    "Iceland\n",
    "Ireland\n",
    "Italy\n",
    "Kazakhstan\n",
    "Latvia\n",
    "Liechtenstein\n",
    "Lithuania\n",
    "Luxembourg\n",
    "Malta\n",
    "Moldova\n",
    "Monaco\n",
    "Montenegro\n",
    "Netherlands\n",
    "North Macedonia\n",
    "Norway\n",
    "Poland\n",
    "Portugal\n",
    "Romania\n",
    "Russia\n",
    "San Marino\n",
    "Serbia\n",
    "Slovakia\n",
    "Slovenia\n",
    "Spain\n",
    "Sweden\n",
    "Switzerland\n",
    "Ukraine\n",
    "United Kingdom\n",
    "Vatican City\"\"\""
   ]
  },
  {
   "cell_type": "code",
   "execution_count": 168,
   "id": "b75ddf69-3d65-4513-a392-a0da71acccfa",
   "metadata": {
    "collapsed": true,
    "jupyter": {
     "outputs_hidden": true,
     "source_hidden": true
    }
   },
   "outputs": [],
   "source": [
    "eurasia_country = s.split('\\n')"
   ]
  },
  {
   "cell_type": "code",
   "execution_count": 170,
   "id": "8607e6ee-c08c-4c97-87b8-d6f8d1014c45",
   "metadata": {
    "collapsed": true,
    "jupyter": {
     "outputs_hidden": true,
     "source_hidden": true
    },
    "tags": []
   },
   "outputs": [
    {
     "name": "stdout",
     "output_type": "stream",
     "text": [
      "Liechtenstein\n",
      "Hungary\n",
      "Turkey\n",
      "Ukraine\n",
      "Finland\n",
      "Bulgaria\n",
      "Italy\n",
      "Poland\n",
      "Austria\n",
      "Philippines\n",
      "Singapore\n",
      "Japan\n",
      "Netherlands\n",
      "Estonia\n",
      "Czechia\n",
      "Portugal\n",
      "India\n",
      "Latvia\n",
      "Lithuania\n",
      "Hong Kong\n",
      "Taiwan\n",
      "Russia\n",
      "Romania\n",
      "San Marino\n",
      "Malaysia\n",
      "Iceland\n",
      "Greece\n",
      "Sweden\n",
      "Norway\n",
      "Israel\n",
      "Indonesia\n",
      "Switzerland\n",
      "Ireland\n",
      "Belgium\n",
      "Denmark\n",
      "Moldova\n",
      "Monaco\n",
      "United Kingdom\n",
      "Slovakia\n",
      "Croatia\n",
      "Germany\n",
      "Thailand\n",
      "France\n",
      "South Korea\n",
      "Spain\n"
     ]
    }
   ],
   "source": [
    "i = 0\n",
    "eurasia_country1 = []\n",
    "for c in set(eurasia_country):\n",
    "    if c in list(netflix.Country):\n",
    "        print(c)\n",
    "        i += 1\n",
    "        eurasia_country1.append(c)"
   ]
  },
  {
   "cell_type": "code",
   "execution_count": 171,
   "id": "3009f056-ed12-4383-9b3c-b4a9410d32ae",
   "metadata": {
    "collapsed": true,
    "jupyter": {
     "outputs_hidden": true,
     "source_hidden": true
    }
   },
   "outputs": [
    {
     "data": {
      "text/plain": [
       "45"
      ]
     },
     "execution_count": 171,
     "metadata": {},
     "output_type": "execute_result"
    }
   ],
   "source": [
    "i"
   ]
  },
  {
   "cell_type": "code",
   "execution_count": 121,
   "id": "5615135a-a5b0-4e35-b309-7a3e86d54464",
   "metadata": {
    "collapsed": true,
    "jupyter": {
     "outputs_hidden": true,
     "source_hidden": true
    }
   },
   "outputs": [
    {
     "data": {
      "text/html": [
       "<div>\n",
       "<style scoped>\n",
       "    .dataframe tbody tr th:only-of-type {\n",
       "        vertical-align: middle;\n",
       "    }\n",
       "\n",
       "    .dataframe tbody tr th {\n",
       "        vertical-align: top;\n",
       "    }\n",
       "\n",
       "    .dataframe thead th {\n",
       "        text-align: right;\n",
       "    }\n",
       "</style>\n",
       "<table border=\"1\" class=\"dataframe\">\n",
       "  <thead>\n",
       "    <tr style=\"text-align: right;\">\n",
       "      <th></th>\n",
       "      <th>Country</th>\n",
       "      <th>Total Library Size</th>\n",
       "      <th>No. of TV Shows</th>\n",
       "      <th>No. of Movies</th>\n",
       "      <th>Cost Per Month - Basic ($)</th>\n",
       "      <th>Cost Per Month - Standard ($)</th>\n",
       "      <th>Cost Per Month - Premium ($)</th>\n",
       "    </tr>\n",
       "  </thead>\n",
       "  <tbody>\n",
       "  </tbody>\n",
       "</table>\n",
       "</div>"
      ],
      "text/plain": [
       "Empty DataFrame\n",
       "Columns: [Country, Total Library Size, No. of TV Shows, No. of Movies, Cost Per Month - Basic ($), Cost Per Month - Standard ($), Cost Per Month - Premium ($)]\n",
       "Index: []"
      ]
     },
     "execution_count": 121,
     "metadata": {},
     "output_type": "execute_result"
    }
   ],
   "source": [
    "netflix[netflix.Country == 'Vatican']"
   ]
  },
  {
   "cell_type": "code",
   "execution_count": 173,
   "id": "717b6833-5509-4e59-8be7-3912e8d35832",
   "metadata": {
    "collapsed": true,
    "jupyter": {
     "outputs_hidden": true,
     "source_hidden": true
    }
   },
   "outputs": [],
   "source": [
    "s=\"\"\"Antigua and Barbuda\n",
    "Bahamas\n",
    "Barbados\n",
    "Belize\n",
    "Canada\n",
    "Costa Rica\n",
    "Cuba\n",
    "Dominica\n",
    "Dominican Republic\n",
    "El Salvador\n",
    "Grenada\n",
    "Guatemala\n",
    "Haiti\n",
    "Honduras\n",
    "Jamaica\n",
    "Mexico\n",
    "Nicaragua\n",
    "Panama\n",
    "Saint Kitts and Nevis\n",
    "Saint Lucia\n",
    "Saint Vincent and the Grenadines\n",
    "Trinidad and Tobago\n",
    "United States\"\"\"\n"
   ]
  },
  {
   "cell_type": "code",
   "execution_count": 174,
   "id": "56dfad09-85c0-48bf-b713-044dab2bb39b",
   "metadata": {
    "collapsed": true,
    "jupyter": {
     "outputs_hidden": true,
     "source_hidden": true
    }
   },
   "outputs": [],
   "source": [
    "north_america_country = s.split('\\n')"
   ]
  },
  {
   "cell_type": "code",
   "execution_count": 175,
   "id": "05602164-e166-4201-87eb-775157a65aee",
   "metadata": {
    "collapsed": true,
    "jupyter": {
     "outputs_hidden": true,
     "source_hidden": true
    }
   },
   "outputs": [
    {
     "name": "stdout",
     "output_type": "stream",
     "text": [
      "Canada\n",
      "Costa Rica\n",
      "Guatemala\n",
      "Honduras\n",
      "Mexico\n",
      "United States\n"
     ]
    }
   ],
   "source": [
    "i = 0\n",
    "north_america_country1 = []\n",
    "for c in north_america_country:\n",
    "    if c in list(netflix.Country):\n",
    "        print(c)\n",
    "        i += 1\n",
    "        north_america_country1.append(c)"
   ]
  },
  {
   "cell_type": "code",
   "execution_count": 176,
   "id": "6887fd45-bdf8-4aec-9d47-0b25c0bf6f37",
   "metadata": {
    "collapsed": true,
    "jupyter": {
     "outputs_hidden": true,
     "source_hidden": true
    }
   },
   "outputs": [
    {
     "data": {
      "text/plain": [
       "6"
      ]
     },
     "execution_count": 176,
     "metadata": {},
     "output_type": "execute_result"
    }
   ],
   "source": [
    "i"
   ]
  },
  {
   "cell_type": "code",
   "execution_count": 177,
   "id": "fef7bf0b-34da-4279-bec5-572f750b1daa",
   "metadata": {
    "collapsed": true,
    "jupyter": {
     "outputs_hidden": true,
     "source_hidden": true
    }
   },
   "outputs": [],
   "source": [
    "s=\"\"\"Argentina\n",
    "Bolivia\n",
    "Brazil\n",
    "Chile\n",
    "Colombia\n",
    "Ecuador\n",
    "Guyana\n",
    "Paraguay\n",
    "Peru\n",
    "Suriname\n",
    "Uruguay\n",
    "Venezuela\"\"\"\n"
   ]
  },
  {
   "cell_type": "code",
   "execution_count": 178,
   "id": "929bdbb5-057b-41fb-abe0-1f9e668e89c0",
   "metadata": {
    "collapsed": true,
    "jupyter": {
     "outputs_hidden": true,
     "source_hidden": true
    }
   },
   "outputs": [],
   "source": [
    "south_america_country = s.split('\\n')"
   ]
  },
  {
   "cell_type": "code",
   "execution_count": 179,
   "id": "c49f30b4-3cc1-4ad9-8dbd-5ef051b70d4e",
   "metadata": {
    "collapsed": true,
    "jupyter": {
     "outputs_hidden": true,
     "source_hidden": true
    }
   },
   "outputs": [
    {
     "name": "stdout",
     "output_type": "stream",
     "text": [
      "Argentina\n",
      "Bolivia\n",
      "Brazil\n",
      "Chile\n",
      "Colombia\n",
      "Ecuador\n",
      "Paraguay\n",
      "Peru\n",
      "Uruguay\n",
      "Venezuela\n"
     ]
    }
   ],
   "source": [
    "i = 0\n",
    "south_america_country1 = []\n",
    "for c in south_america_country:\n",
    "    if c in list(netflix.Country):\n",
    "        print(c)\n",
    "        i += 1\n",
    "        south_america_country1.append(c)"
   ]
  },
  {
   "cell_type": "code",
   "execution_count": 180,
   "id": "632233c9-3cf2-4d14-b111-592963efc9b4",
   "metadata": {
    "collapsed": true,
    "jupyter": {
     "outputs_hidden": true,
     "source_hidden": true
    }
   },
   "outputs": [
    {
     "data": {
      "text/plain": [
       "10"
      ]
     },
     "execution_count": 180,
     "metadata": {},
     "output_type": "execute_result"
    }
   ],
   "source": [
    "i"
   ]
  },
  {
   "cell_type": "code",
   "execution_count": 181,
   "id": "b70ae985-cf0e-4232-acd8-f1cf55be69c5",
   "metadata": {
    "collapsed": true,
    "jupyter": {
     "outputs_hidden": true,
     "source_hidden": true
    }
   },
   "outputs": [],
   "source": [
    "s=\"\"\"Australia\n",
    "Fiji\n",
    "Kiribati\n",
    "Marshall Islands\n",
    "Micronesia (The Federated States of)\n",
    "Nauru\n",
    "New Zealand\n",
    "Palau\n",
    "Papua New Guinea\n",
    "Samoa\n",
    "Solomon Islands\n",
    "Tonga\n",
    "Tuvalu\n",
    "Vanuatu\"\"\""
   ]
  },
  {
   "cell_type": "code",
   "execution_count": 182,
   "id": "7b0cc3b7-73ea-471b-a835-4c833a91cf13",
   "metadata": {
    "collapsed": true,
    "jupyter": {
     "outputs_hidden": true,
     "source_hidden": true
    },
    "tags": []
   },
   "outputs": [],
   "source": [
    "astr_oceania_country = s.split('\\n')"
   ]
  },
  {
   "cell_type": "code",
   "execution_count": 183,
   "id": "ab3cc4ca-c650-45b4-be69-c488c804fdd9",
   "metadata": {
    "collapsed": true,
    "jupyter": {
     "outputs_hidden": true,
     "source_hidden": true
    },
    "tags": []
   },
   "outputs": [
    {
     "name": "stdout",
     "output_type": "stream",
     "text": [
      "Australia\n",
      "New Zealand\n"
     ]
    }
   ],
   "source": [
    "i = 0\n",
    "astr_oceania_country1 = []\n",
    "for c in astr_oceania_country:\n",
    "    if c in list(netflix.Country):\n",
    "        print(c)\n",
    "        i += 1\n",
    "        astr_oceania_country1.append(c)"
   ]
  },
  {
   "cell_type": "code",
   "execution_count": 187,
   "id": "9326905b-a19e-422f-92e2-dd977beac2e1",
   "metadata": {
    "jupyter": {
     "source_hidden": true
    },
    "tags": []
   },
   "outputs": [],
   "source": [
    "lst = africa_country1 + eurasia_country1 + north_america_country1 + south_america_country1 + astr_oceania_country1"
   ]
  },
  {
   "cell_type": "code",
   "execution_count": 188,
   "id": "3c3b50ef-9b90-42d7-82a4-5ddf21e23101",
   "metadata": {
    "jupyter": {
     "source_hidden": true
    },
    "tags": []
   },
   "outputs": [],
   "source": [
    "for c in netflix.Country:\n",
    "    if c not in lst:\n",
    "        print(c)"
   ]
  },
  {
   "cell_type": "code",
   "execution_count": 186,
   "id": "e70f4d00-1413-4574-b317-28fb09e2d0c0",
   "metadata": {
    "jupyter": {
     "source_hidden": true
    },
    "tags": []
   },
   "outputs": [],
   "source": [
    "eurasia_country1.append('Gibraltar')"
   ]
  },
  {
   "cell_type": "code",
   "execution_count": 191,
   "id": "9a9baf94-1c98-413c-aecf-7503d9cfc492",
   "metadata": {
    "collapsed": true,
    "jupyter": {
     "outputs_hidden": true,
     "source_hidden": true
    },
    "tags": []
   },
   "outputs": [
    {
     "data": {
      "text/plain": [
       "65"
      ]
     },
     "execution_count": 191,
     "metadata": {},
     "output_type": "execute_result"
    }
   ],
   "source": [
    "len(conts)"
   ]
  },
  {
   "cell_type": "code",
   "execution_count": 190,
   "id": "a55c5ad9-4bd1-4e25-b130-207b015c8a83",
   "metadata": {
    "collapsed": true,
    "jupyter": {
     "outputs_hidden": true
    },
    "tags": []
   },
   "outputs": [],
   "source": [
    "conts = ['Africa']*len(africa_country1) + ['Eurasia']*len(eurasia_country1) + ['North America']*len(north_america_country1) + ['Sourth America']*len(south_america_country1) + ['Australia and Oceania']*len(astr_oceania_country1)"
   ]
  },
  {
   "cell_type": "code",
   "execution_count": 193,
   "id": "e6d38935-7817-4e7c-b43b-3d224378a744",
   "metadata": {},
   "outputs": [],
   "source": [
    "country_continent = pd.DataFrame({'Country': lst, 'Continent': conts})"
   ]
  },
  {
   "cell_type": "code",
   "execution_count": 194,
   "id": "f5df4f60-9aa0-47bd-93c0-8520b797736d",
   "metadata": {},
   "outputs": [],
   "source": [
    "country_continent.to_csv('country_continent.csv', index=False)"
   ]
  },
  {
   "cell_type": "markdown",
   "id": "e05efb5b-c46d-4aa1-a7a5-d84378ff5426",
   "metadata": {},
   "source": [
    "#### Загрузим страны по континентам"
   ]
  },
  {
   "cell_type": "code",
   "execution_count": 8,
   "id": "357d0837-1837-4007-9bdb-35726098b589",
   "metadata": {},
   "outputs": [
    {
     "data": {
      "text/html": [
       "<div>\n",
       "<style scoped>\n",
       "    .dataframe tbody tr th:only-of-type {\n",
       "        vertical-align: middle;\n",
       "    }\n",
       "\n",
       "    .dataframe tbody tr th {\n",
       "        vertical-align: top;\n",
       "    }\n",
       "\n",
       "    .dataframe thead th {\n",
       "        text-align: right;\n",
       "    }\n",
       "</style>\n",
       "<table border=\"1\" class=\"dataframe\">\n",
       "  <thead>\n",
       "    <tr style=\"text-align: right;\">\n",
       "      <th></th>\n",
       "      <th>Country</th>\n",
       "      <th>Continent</th>\n",
       "    </tr>\n",
       "  </thead>\n",
       "  <tbody>\n",
       "    <tr>\n",
       "      <th>0</th>\n",
       "      <td>South Africa</td>\n",
       "      <td>Africa</td>\n",
       "    </tr>\n",
       "    <tr>\n",
       "      <th>1</th>\n",
       "      <td>Liechtenstein</td>\n",
       "      <td>Eurasia</td>\n",
       "    </tr>\n",
       "    <tr>\n",
       "      <th>2</th>\n",
       "      <td>Hungary</td>\n",
       "      <td>Eurasia</td>\n",
       "    </tr>\n",
       "    <tr>\n",
       "      <th>3</th>\n",
       "      <td>Turkey</td>\n",
       "      <td>Eurasia</td>\n",
       "    </tr>\n",
       "    <tr>\n",
       "      <th>4</th>\n",
       "      <td>Ukraine</td>\n",
       "      <td>Eurasia</td>\n",
       "    </tr>\n",
       "  </tbody>\n",
       "</table>\n",
       "</div>"
      ],
      "text/plain": [
       "         Country Continent\n",
       "0   South Africa    Africa\n",
       "1  Liechtenstein   Eurasia\n",
       "2        Hungary   Eurasia\n",
       "3         Turkey   Eurasia\n",
       "4        Ukraine   Eurasia"
      ]
     },
     "execution_count": 8,
     "metadata": {},
     "output_type": "execute_result"
    }
   ],
   "source": [
    "country_continent = pd.read_csv('https://raw.githubusercontent.com/ZhigarinKirill/AAA_pandas/main/country_continent.csv', sep=',')\n",
    "country_continent.head()"
   ]
  },
  {
   "cell_type": "markdown",
   "id": "0eb18885-5c85-40eb-bc86-c47c9ff043f5",
   "metadata": {},
   "source": [
    "#### Объединим данные"
   ]
  },
  {
   "cell_type": "code",
   "execution_count": 116,
   "id": "3d56ceb6-b1fc-4586-806e-c9bc95948cfc",
   "metadata": {},
   "outputs": [],
   "source": [
    "full_data = netflix.merge(country_avg_income, on='Country').merge(country_currencies, on='Country').merge(country_continent, on='Country')"
   ]
  },
  {
   "cell_type": "code",
   "execution_count": 73,
   "id": "bfd8e96f-8189-4839-9383-1f1488a100c6",
   "metadata": {},
   "outputs": [
    {
     "data": {
      "text/html": [
       "<div>\n",
       "<style scoped>\n",
       "    .dataframe tbody tr th:only-of-type {\n",
       "        vertical-align: middle;\n",
       "    }\n",
       "\n",
       "    .dataframe tbody tr th {\n",
       "        vertical-align: top;\n",
       "    }\n",
       "\n",
       "    .dataframe thead th {\n",
       "        text-align: right;\n",
       "    }\n",
       "</style>\n",
       "<table border=\"1\" class=\"dataframe\">\n",
       "  <thead>\n",
       "    <tr style=\"text-align: right;\">\n",
       "      <th></th>\n",
       "      <th>Country</th>\n",
       "      <th>Total Library Size</th>\n",
       "      <th>No. of TV Shows</th>\n",
       "      <th>No. of Movies</th>\n",
       "      <th>Cost Per Month - Basic ($)</th>\n",
       "      <th>Cost Per Month - Standard ($)</th>\n",
       "      <th>Cost Per Month - Premium ($)</th>\n",
       "      <th>int_month</th>\n",
       "      <th>currency</th>\n",
       "      <th>Continent</th>\n",
       "    </tr>\n",
       "  </thead>\n",
       "  <tbody>\n",
       "    <tr>\n",
       "      <th>0</th>\n",
       "      <td>Argentina</td>\n",
       "      <td>4760</td>\n",
       "      <td>3154</td>\n",
       "      <td>1606</td>\n",
       "      <td>3.74</td>\n",
       "      <td>6.30</td>\n",
       "      <td>9.26</td>\n",
       "      <td>842</td>\n",
       "      <td>ARS</td>\n",
       "      <td>Sourth America</td>\n",
       "    </tr>\n",
       "    <tr>\n",
       "      <th>1</th>\n",
       "      <td>Austria</td>\n",
       "      <td>5640</td>\n",
       "      <td>3779</td>\n",
       "      <td>1861</td>\n",
       "      <td>9.03</td>\n",
       "      <td>14.67</td>\n",
       "      <td>20.32</td>\n",
       "      <td>4029</td>\n",
       "      <td>EUR</td>\n",
       "      <td>Eurasia</td>\n",
       "    </tr>\n",
       "    <tr>\n",
       "      <th>2</th>\n",
       "      <td>Bolivia</td>\n",
       "      <td>4991</td>\n",
       "      <td>3155</td>\n",
       "      <td>1836</td>\n",
       "      <td>7.99</td>\n",
       "      <td>10.99</td>\n",
       "      <td>13.99</td>\n",
       "      <td>265</td>\n",
       "      <td>USD</td>\n",
       "      <td>Sourth America</td>\n",
       "    </tr>\n",
       "    <tr>\n",
       "      <th>3</th>\n",
       "      <td>Bulgaria</td>\n",
       "      <td>6797</td>\n",
       "      <td>4819</td>\n",
       "      <td>1978</td>\n",
       "      <td>9.03</td>\n",
       "      <td>11.29</td>\n",
       "      <td>13.54</td>\n",
       "      <td>803</td>\n",
       "      <td>EUR</td>\n",
       "      <td>Eurasia</td>\n",
       "    </tr>\n",
       "    <tr>\n",
       "      <th>4</th>\n",
       "      <td>Chile</td>\n",
       "      <td>4994</td>\n",
       "      <td>3156</td>\n",
       "      <td>1838</td>\n",
       "      <td>7.07</td>\n",
       "      <td>9.91</td>\n",
       "      <td>12.74</td>\n",
       "      <td>2227</td>\n",
       "      <td>CLP</td>\n",
       "      <td>Sourth America</td>\n",
       "    </tr>\n",
       "  </tbody>\n",
       "</table>\n",
       "</div>"
      ],
      "text/plain": [
       "     Country  Total Library Size  No. of TV Shows  No. of Movies  \\\n",
       "0  Argentina                4760             3154           1606   \n",
       "1    Austria                5640             3779           1861   \n",
       "2    Bolivia                4991             3155           1836   \n",
       "3   Bulgaria                6797             4819           1978   \n",
       "4      Chile                4994             3156           1838   \n",
       "\n",
       "   Cost Per Month - Basic ($)  Cost Per Month - Standard ($)  \\\n",
       "0                        3.74                           6.30   \n",
       "1                        9.03                          14.67   \n",
       "2                        7.99                          10.99   \n",
       "3                        9.03                          11.29   \n",
       "4                        7.07                           9.91   \n",
       "\n",
       "   Cost Per Month - Premium ($)  int_month currency       Continent  \n",
       "0                          9.26        842      ARS  Sourth America  \n",
       "1                         20.32       4029      EUR         Eurasia  \n",
       "2                         13.99        265      USD  Sourth America  \n",
       "3                         13.54        803      EUR         Eurasia  \n",
       "4                         12.74       2227      CLP  Sourth America  "
      ]
     },
     "execution_count": 73,
     "metadata": {},
     "output_type": "execute_result"
    }
   ],
   "source": [
    "full_data.drop(columns='month', inplace=True)\n",
    "full_data.head()"
   ]
  },
  {
   "cell_type": "markdown",
   "id": "d296b9f3-df5c-4b20-82c9-80f5d9fa02d4",
   "metadata": {},
   "source": [
    "Построить график корреляции между средним доходом (PPP) и ценой подписки"
   ]
  },
  {
   "cell_type": "code",
   "execution_count": 22,
   "id": "2d9cb0e2-1b55-40fe-ba63-72f290f3331f",
   "metadata": {},
   "outputs": [
    {
     "data": {
      "text/plain": [
       "0.47694271626730433"
      ]
     },
     "execution_count": 22,
     "metadata": {},
     "output_type": "execute_result"
    }
   ],
   "source": [
    "full_data['Cost Per Month - Basic ($)'].corr(full_data.int_month)"
   ]
  },
  {
   "cell_type": "code",
   "execution_count": 23,
   "id": "df324868-835c-43a8-b941-0762b2f2b2cb",
   "metadata": {},
   "outputs": [
    {
     "data": {
      "text/plain": [
       "0.562450444300517"
      ]
     },
     "execution_count": 23,
     "metadata": {},
     "output_type": "execute_result"
    }
   ],
   "source": [
    "full_data['Cost Per Month - Standard ($)'].corr(full_data.int_month)"
   ]
  },
  {
   "cell_type": "code",
   "execution_count": 24,
   "id": "af522dc8-423d-4785-9847-66ffd3f3b98d",
   "metadata": {},
   "outputs": [
    {
     "data": {
      "text/plain": [
       "0.6004099916645905"
      ]
     },
     "execution_count": 24,
     "metadata": {},
     "output_type": "execute_result"
    }
   ],
   "source": [
    "full_data['Cost Per Month - Premium ($)'].corr(full_data.int_month)"
   ]
  },
  {
   "cell_type": "code",
   "execution_count": 26,
   "id": "be96eade-18d6-4a90-803f-d8eeaf34dac0",
   "metadata": {},
   "outputs": [
    {
     "data": {
      "text/plain": [
       "<seaborn.axisgrid.FacetGrid at 0x2317809c670>"
      ]
     },
     "execution_count": 26,
     "metadata": {},
     "output_type": "execute_result"
    },
    {
     "data": {
      "image/png": "[encoded data removed]",
      "text/plain": [
       "<Figure size 360x360 with 1 Axes>"
      ]
     },
     "metadata": {
      "needs_background": "light"
     },
     "output_type": "display_data"
    }
   ],
   "source": [
    "sns.lmplot(x='int_month', y='Cost Per Month - Basic ($)', data=full_data,fit_reg=True)"
   ]
  },
  {
   "cell_type": "code",
   "execution_count": 27,
   "id": "47e451ed-cf3e-4ddd-9bf1-eef92087ba9c",
   "metadata": {},
   "outputs": [
    {
     "data": {
      "text/plain": [
       "<seaborn.axisgrid.FacetGrid at 0x2317810c7c0>"
      ]
     },
     "execution_count": 27,
     "metadata": {},
     "output_type": "execute_result"
    },
    {
     "data": {
      "image/png": "[encoded data removed]",
      "text/plain": [
       "<Figure size 360x360 with 1 Axes>"
      ]
     },
     "metadata": {
      "needs_background": "light"
     },
     "output_type": "display_data"
    }
   ],
   "source": [
    "sns.lmplot(x='int_month', y='Cost Per Month - Standard ($)', data=full_data,fit_reg=True)"
   ]
  },
  {
   "cell_type": "code",
   "execution_count": 28,
   "id": "f5189ed6-7343-4157-807a-106dccea55ed",
   "metadata": {},
   "outputs": [
    {
     "data": {
      "text/plain": [
       "<seaborn.axisgrid.FacetGrid at 0x2317824f910>"
      ]
     },
     "execution_count": 28,
     "metadata": {},
     "output_type": "execute_result"
    },
    {
     "data": {
      "image/png": "[encoded data removed]",
      "text/plain": [
       "<Figure size 360x360 with 1 Axes>"
      ]
     },
     "metadata": {
      "needs_background": "light"
     },
     "output_type": "display_data"
    }
   ],
   "source": [
    "sns.lmplot(x='int_month', y='Cost Per Month - Premium ($)', data=full_data,fit_reg=True)"
   ]
  },
  {
   "cell_type": "markdown",
   "id": "f486566f-4319-427f-a654-0944f559e562",
   "metadata": {},
   "source": [
    "#### Какая средняя цена подписки, (базовой, стандартной, премиум) в зависимости от валюты страны"
   ]
  },
  {
   "cell_type": "code",
   "execution_count": 58,
   "id": "702df756-b175-4fa4-b104-e1249933cf64",
   "metadata": {},
   "outputs": [
    {
     "data": {
      "text/html": [
       "<div>\n",
       "<style scoped>\n",
       "    .dataframe tbody tr th:only-of-type {\n",
       "        vertical-align: middle;\n",
       "    }\n",
       "\n",
       "    .dataframe tbody tr th {\n",
       "        vertical-align: top;\n",
       "    }\n",
       "\n",
       "    .dataframe thead th {\n",
       "        text-align: right;\n",
       "    }\n",
       "</style>\n",
       "<table border=\"1\" class=\"dataframe\">\n",
       "  <thead>\n",
       "    <tr style=\"text-align: right;\">\n",
       "      <th></th>\n",
       "      <th>mean Cost Per Month - Basic ($)</th>\n",
       "      <th>mean Cost Per Month - Standard ($)</th>\n",
       "      <th>mean Cost Per Month - Premium ($)</th>\n",
       "    </tr>\n",
       "    <tr>\n",
       "      <th>currency</th>\n",
       "      <th></th>\n",
       "      <th></th>\n",
       "      <th></th>\n",
       "    </tr>\n",
       "  </thead>\n",
       "  <tbody>\n",
       "    <tr>\n",
       "      <th>ARS</th>\n",
       "      <td>3.740</td>\n",
       "      <td>6.300</td>\n",
       "      <td>9.260</td>\n",
       "    </tr>\n",
       "    <tr>\n",
       "      <th>AUS</th>\n",
       "      <td>7.840</td>\n",
       "      <td>12.120</td>\n",
       "      <td>16.390</td>\n",
       "    </tr>\n",
       "    <tr>\n",
       "      <th>BRL</th>\n",
       "      <td>4.610</td>\n",
       "      <td>7.110</td>\n",
       "      <td>9.960</td>\n",
       "    </tr>\n",
       "    <tr>\n",
       "      <th>CAD</th>\n",
       "      <td>7.910</td>\n",
       "      <td>11.870</td>\n",
       "      <td>15.030</td>\n",
       "    </tr>\n",
       "    <tr>\n",
       "      <th>CHF</th>\n",
       "      <td>12.880</td>\n",
       "      <td>20.460</td>\n",
       "      <td>26.960</td>\n",
       "    </tr>\n",
       "    <tr>\n",
       "      <th>CLP</th>\n",
       "      <td>7.070</td>\n",
       "      <td>9.910</td>\n",
       "      <td>12.740</td>\n",
       "    </tr>\n",
       "    <tr>\n",
       "      <th>COP</th>\n",
       "      <td>4.310</td>\n",
       "      <td>6.860</td>\n",
       "      <td>9.930</td>\n",
       "    </tr>\n",
       "    <tr>\n",
       "      <th>CZK</th>\n",
       "      <td>8.830</td>\n",
       "      <td>11.490</td>\n",
       "      <td>14.150</td>\n",
       "    </tr>\n",
       "    <tr>\n",
       "      <th>DKK</th>\n",
       "      <td>12.000</td>\n",
       "      <td>15.040</td>\n",
       "      <td>19.600</td>\n",
       "    </tr>\n",
       "    <tr>\n",
       "      <th>EUR</th>\n",
       "      <td>8.976</td>\n",
       "      <td>13.140</td>\n",
       "      <td>17.307</td>\n",
       "    </tr>\n",
       "    <tr>\n",
       "      <th>GBP</th>\n",
       "      <td>7.910</td>\n",
       "      <td>13.200</td>\n",
       "      <td>18.480</td>\n",
       "    </tr>\n",
       "    <tr>\n",
       "      <th>HKD</th>\n",
       "      <td>8.080</td>\n",
       "      <td>10.000</td>\n",
       "      <td>11.930</td>\n",
       "    </tr>\n",
       "    <tr>\n",
       "      <th>HUF</th>\n",
       "      <td>7.640</td>\n",
       "      <td>10.710</td>\n",
       "      <td>13.780</td>\n",
       "    </tr>\n",
       "    <tr>\n",
       "      <th>IDR</th>\n",
       "      <td>8.360</td>\n",
       "      <td>10.660</td>\n",
       "      <td>12.960</td>\n",
       "    </tr>\n",
       "    <tr>\n",
       "      <th>ILS</th>\n",
       "      <td>10.560</td>\n",
       "      <td>15.050</td>\n",
       "      <td>19.540</td>\n",
       "    </tr>\n",
       "    <tr>\n",
       "      <th>INR</th>\n",
       "      <td>2.640</td>\n",
       "      <td>6.610</td>\n",
       "      <td>8.600</td>\n",
       "    </tr>\n",
       "    <tr>\n",
       "      <th>JPY</th>\n",
       "      <td>8.730</td>\n",
       "      <td>13.130</td>\n",
       "      <td>17.450</td>\n",
       "    </tr>\n",
       "    <tr>\n",
       "      <th>KRW</th>\n",
       "      <td>8.070</td>\n",
       "      <td>11.470</td>\n",
       "      <td>14.450</td>\n",
       "    </tr>\n",
       "    <tr>\n",
       "      <th>MXN</th>\n",
       "      <td>6.620</td>\n",
       "      <td>10.430</td>\n",
       "      <td>14.240</td>\n",
       "    </tr>\n",
       "    <tr>\n",
       "      <th>MYR</th>\n",
       "      <td>8.290</td>\n",
       "      <td>10.650</td>\n",
       "      <td>13.020</td>\n",
       "    </tr>\n",
       "    <tr>\n",
       "      <th>NOK</th>\n",
       "      <td>9.940</td>\n",
       "      <td>12.170</td>\n",
       "      <td>17.750</td>\n",
       "    </tr>\n",
       "    <tr>\n",
       "      <th>NZD</th>\n",
       "      <td>8.800</td>\n",
       "      <td>12.530</td>\n",
       "      <td>16.940</td>\n",
       "    </tr>\n",
       "    <tr>\n",
       "      <th>PEN</th>\n",
       "      <td>6.110</td>\n",
       "      <td>8.560</td>\n",
       "      <td>11.010</td>\n",
       "    </tr>\n",
       "    <tr>\n",
       "      <th>PHP</th>\n",
       "      <td>7.350</td>\n",
       "      <td>9.140</td>\n",
       "      <td>10.930</td>\n",
       "    </tr>\n",
       "    <tr>\n",
       "      <th>PLN</th>\n",
       "      <td>7.130</td>\n",
       "      <td>10.580</td>\n",
       "      <td>14.760</td>\n",
       "    </tr>\n",
       "    <tr>\n",
       "      <th>RUB</th>\n",
       "      <td>8.130</td>\n",
       "      <td>10.840</td>\n",
       "      <td>13.560</td>\n",
       "    </tr>\n",
       "    <tr>\n",
       "      <th>SEK</th>\n",
       "      <td>10.900</td>\n",
       "      <td>14.200</td>\n",
       "      <td>19.700</td>\n",
       "    </tr>\n",
       "    <tr>\n",
       "      <th>SGD</th>\n",
       "      <td>9.510</td>\n",
       "      <td>12.810</td>\n",
       "      <td>16.110</td>\n",
       "    </tr>\n",
       "    <tr>\n",
       "      <th>THB</th>\n",
       "      <td>8.340</td>\n",
       "      <td>10.430</td>\n",
       "      <td>12.520</td>\n",
       "    </tr>\n",
       "    <tr>\n",
       "      <th>TRY</th>\n",
       "      <td>1.970</td>\n",
       "      <td>3.000</td>\n",
       "      <td>4.020</td>\n",
       "    </tr>\n",
       "    <tr>\n",
       "      <th>USD</th>\n",
       "      <td>8.490</td>\n",
       "      <td>12.157</td>\n",
       "      <td>15.323</td>\n",
       "    </tr>\n",
       "    <tr>\n",
       "      <th>ZAR</th>\n",
       "      <td>6.260</td>\n",
       "      <td>10.050</td>\n",
       "      <td>12.580</td>\n",
       "    </tr>\n",
       "  </tbody>\n",
       "</table>\n",
       "</div>"
      ],
      "text/plain": [
       "          mean Cost Per Month - Basic ($)  mean Cost Per Month - Standard ($)  \\\n",
       "currency                                                                        \n",
       "ARS                                 3.740                               6.300   \n",
       "AUS                                 7.840                              12.120   \n",
       "BRL                                 4.610                               7.110   \n",
       "CAD                                 7.910                              11.870   \n",
       "CHF                                12.880                              20.460   \n",
       "CLP                                 7.070                               9.910   \n",
       "COP                                 4.310                               6.860   \n",
       "CZK                                 8.830                              11.490   \n",
       "DKK                                12.000                              15.040   \n",
       "EUR                                 8.976                              13.140   \n",
       "GBP                                 7.910                              13.200   \n",
       "HKD                                 8.080                              10.000   \n",
       "HUF                                 7.640                              10.710   \n",
       "IDR                                 8.360                              10.660   \n",
       "ILS                                10.560                              15.050   \n",
       "INR                                 2.640                               6.610   \n",
       "JPY                                 8.730                              13.130   \n",
       "KRW                                 8.070                              11.470   \n",
       "MXN                                 6.620                              10.430   \n",
       "MYR                                 8.290                              10.650   \n",
       "NOK                                 9.940                              12.170   \n",
       "NZD                                 8.800                              12.530   \n",
       "PEN                                 6.110                               8.560   \n",
       "PHP                                 7.350                               9.140   \n",
       "PLN                                 7.130                              10.580   \n",
       "RUB                                 8.130                              10.840   \n",
       "SEK                                10.900                              14.200   \n",
       "SGD                                 9.510                              12.810   \n",
       "THB                                 8.340                              10.430   \n",
       "TRY                                 1.970                               3.000   \n",
       "USD                                 8.490                              12.157   \n",
       "ZAR                                 6.260                              10.050   \n",
       "\n",
       "          mean Cost Per Month - Premium ($)  \n",
       "currency                                     \n",
       "ARS                                   9.260  \n",
       "AUS                                  16.390  \n",
       "BRL                                   9.960  \n",
       "CAD                                  15.030  \n",
       "CHF                                  26.960  \n",
       "CLP                                  12.740  \n",
       "COP                                   9.930  \n",
       "CZK                                  14.150  \n",
       "DKK                                  19.600  \n",
       "EUR                                  17.307  \n",
       "GBP                                  18.480  \n",
       "HKD                                  11.930  \n",
       "HUF                                  13.780  \n",
       "IDR                                  12.960  \n",
       "ILS                                  19.540  \n",
       "INR                                   8.600  \n",
       "JPY                                  17.450  \n",
       "KRW                                  14.450  \n",
       "MXN                                  14.240  \n",
       "MYR                                  13.020  \n",
       "NOK                                  17.750  \n",
       "NZD                                  16.940  \n",
       "PEN                                  11.010  \n",
       "PHP                                  10.930  \n",
       "PLN                                  14.760  \n",
       "RUB                                  13.560  \n",
       "SEK                                  19.700  \n",
       "SGD                                  16.110  \n",
       "THB                                  12.520  \n",
       "TRY                                   4.020  \n",
       "USD                                  15.323  \n",
       "ZAR                                  12.580  "
      ]
     },
     "execution_count": 58,
     "metadata": {},
     "output_type": "execute_result"
    }
   ],
   "source": [
    "mean_cost_by_currency = full_data[['Cost Per Month - Basic ($)', 'Cost Per Month - Standard ($)', 'Cost Per Month - Premium ($)', 'currency']].groupby('currency').mean().apply(lambda d: round(d, 3))\n",
    "mean_cost_by_currency.columns = ['mean Cost Per Month - Basic ($)', \n",
    "                                 'mean Cost Per Month - Standard ($)', \n",
    "                                 'mean Cost Per Month - Premium ($)']\n",
    "mean_cost_by_currency"
   ]
  },
  {
   "cell_type": "markdown",
   "id": "021f2aed-332f-49c1-8f5d-9471d1bfb016",
   "metadata": {},
   "source": [
    "#### Какая средняя цена подписки, (базовой, стандартной, премиум) в зависимости от континента"
   ]
  },
  {
   "cell_type": "code",
   "execution_count": 59,
   "id": "bdb5a852-7786-4dc8-828e-700fbe02fdf8",
   "metadata": {},
   "outputs": [
    {
     "data": {
      "text/html": [
       "<div>\n",
       "<style scoped>\n",
       "    .dataframe tbody tr th:only-of-type {\n",
       "        vertical-align: middle;\n",
       "    }\n",
       "\n",
       "    .dataframe tbody tr th {\n",
       "        vertical-align: top;\n",
       "    }\n",
       "\n",
       "    .dataframe thead th {\n",
       "        text-align: right;\n",
       "    }\n",
       "</style>\n",
       "<table border=\"1\" class=\"dataframe\">\n",
       "  <thead>\n",
       "    <tr style=\"text-align: right;\">\n",
       "      <th></th>\n",
       "      <th>mean Cost Per Month - Basic ($)</th>\n",
       "      <th>mean Cost Per Month - Standard ($)</th>\n",
       "      <th>mean Cost Per Month - Premium ($)</th>\n",
       "    </tr>\n",
       "    <tr>\n",
       "      <th>Continent</th>\n",
       "      <th></th>\n",
       "      <th></th>\n",
       "      <th></th>\n",
       "    </tr>\n",
       "  </thead>\n",
       "  <tbody>\n",
       "    <tr>\n",
       "      <th>Africa</th>\n",
       "      <td>6.260</td>\n",
       "      <td>10.050</td>\n",
       "      <td>12.580</td>\n",
       "    </tr>\n",
       "    <tr>\n",
       "      <th>Australia and Oceania</th>\n",
       "      <td>8.320</td>\n",
       "      <td>12.325</td>\n",
       "      <td>16.665</td>\n",
       "    </tr>\n",
       "    <tr>\n",
       "      <th>Eurasia</th>\n",
       "      <td>8.677</td>\n",
       "      <td>12.380</td>\n",
       "      <td>16.188</td>\n",
       "    </tr>\n",
       "    <tr>\n",
       "      <th>North America</th>\n",
       "      <td>8.128</td>\n",
       "      <td>12.320</td>\n",
       "      <td>15.812</td>\n",
       "    </tr>\n",
       "    <tr>\n",
       "      <th>Sourth America</th>\n",
       "      <td>6.533</td>\n",
       "      <td>9.411</td>\n",
       "      <td>12.318</td>\n",
       "    </tr>\n",
       "  </tbody>\n",
       "</table>\n",
       "</div>"
      ],
      "text/plain": [
       "                       mean Cost Per Month - Basic ($)  \\\n",
       "Continent                                                \n",
       "Africa                                           6.260   \n",
       "Australia and Oceania                            8.320   \n",
       "Eurasia                                          8.677   \n",
       "North America                                    8.128   \n",
       "Sourth America                                   6.533   \n",
       "\n",
       "                       mean Cost Per Month - Standard ($)  \\\n",
       "Continent                                                   \n",
       "Africa                                             10.050   \n",
       "Australia and Oceania                              12.325   \n",
       "Eurasia                                            12.380   \n",
       "North America                                      12.320   \n",
       "Sourth America                                      9.411   \n",
       "\n",
       "                       mean Cost Per Month - Premium ($)  \n",
       "Continent                                                 \n",
       "Africa                                            12.580  \n",
       "Australia and Oceania                             16.665  \n",
       "Eurasia                                           16.188  \n",
       "North America                                     15.812  \n",
       "Sourth America                                    12.318  "
      ]
     },
     "execution_count": 59,
     "metadata": {},
     "output_type": "execute_result"
    }
   ],
   "source": [
    "mean_cost_by_continent = full_data[['Cost Per Month - Basic ($)', 'Cost Per Month - Standard ($)', 'Cost Per Month - Premium ($)', 'Continent']].groupby('Continent').mean().apply(lambda d: round(d, 3))\n",
    "mean_cost_by_continent.columns = ['mean Cost Per Month - Basic ($)', \n",
    "                                 'mean Cost Per Month - Standard ($)', \n",
    "                                 'mean Cost Per Month - Premium ($)']\n",
    "mean_cost_by_continent"
   ]
  },
  {
   "cell_type": "markdown",
   "id": "41b61a15-1d85-4e25-992b-dd55c16d1c8d",
   "metadata": {},
   "source": [
    "#### Сколько стоит подписка относительно среднего дохода (базовая, стандартная, премиум) в Чехии?"
   ]
  },
  {
   "cell_type": "code",
   "execution_count": 64,
   "id": "7d4bc374-42eb-4378-82fc-f64ccc08a601",
   "metadata": {},
   "outputs": [
    {
     "data": {
      "text/html": [
       "<div>\n",
       "<style scoped>\n",
       "    .dataframe tbody tr th:only-of-type {\n",
       "        vertical-align: middle;\n",
       "    }\n",
       "\n",
       "    .dataframe tbody tr th {\n",
       "        vertical-align: top;\n",
       "    }\n",
       "\n",
       "    .dataframe thead th {\n",
       "        text-align: right;\n",
       "    }\n",
       "</style>\n",
       "<table border=\"1\" class=\"dataframe\">\n",
       "  <thead>\n",
       "    <tr style=\"text-align: right;\">\n",
       "      <th></th>\n",
       "      <th>Country</th>\n",
       "      <th>Cost Per Month - Basic ($) per avg income</th>\n",
       "      <th>Cost Per Month - Standard ($) per avg income</th>\n",
       "      <th>Cost Per Month - Premium ($) per avg income</th>\n",
       "    </tr>\n",
       "  </thead>\n",
       "  <tbody>\n",
       "    <tr>\n",
       "      <th>7</th>\n",
       "      <td>Czech Republic</td>\n",
       "      <td>0.003546</td>\n",
       "      <td>0.004614</td>\n",
       "      <td>0.005683</td>\n",
       "    </tr>\n",
       "  </tbody>\n",
       "</table>\n",
       "</div>"
      ],
      "text/plain": [
       "          Country  Cost Per Month - Basic ($) per avg income  \\\n",
       "7  Czech Republic                                   0.003546   \n",
       "\n",
       "   Cost Per Month - Standard ($) per avg income  \\\n",
       "7                                      0.004614   \n",
       "\n",
       "   Cost Per Month - Premium ($) per avg income  \n",
       "7                                     0.005683  "
      ]
     },
     "execution_count": 64,
     "metadata": {},
     "output_type": "execute_result"
    }
   ],
   "source": [
    "czech_info = full_data[['Cost Per Month - Basic ($)', 'Cost Per Month - Standard ($)', 'Cost Per Month - Premium ($)']][full_data.Country == 'Czech Republic'].apply(lambda cell: cell / full_data.int_month[full_data.Country == 'Czech Republic'])\n",
    "czech_info.columns = ['Cost Per Month - Basic ($) per avg income', \n",
    "                            'Cost Per Month - Standard ($) per avg income', \n",
    "                            'Cost Per Month - Premium ($) per avg income']\n",
    "czech_info.insert(loc=0, column='Country', value='Czech Republic')\n",
    "czech_info"
   ]
  },
  {
   "cell_type": "markdown",
   "id": "414173f3-b86c-4e23-b7d4-882748f48015",
   "metadata": {},
   "source": [
    "#### Какие топ-5 стран имеют самую большую доступную коллекцию сериалов?"
   ]
  },
  {
   "cell_type": "code",
   "execution_count": 60,
   "id": "a04d775d-654b-4b07-9f43-57bcb79847f4",
   "metadata": {},
   "outputs": [
    {
     "data": {
      "text/html": [
       "<div>\n",
       "<style scoped>\n",
       "    .dataframe tbody tr th:only-of-type {\n",
       "        vertical-align: middle;\n",
       "    }\n",
       "\n",
       "    .dataframe tbody tr th {\n",
       "        vertical-align: top;\n",
       "    }\n",
       "\n",
       "    .dataframe thead th {\n",
       "        text-align: right;\n",
       "    }\n",
       "</style>\n",
       "<table border=\"1\" class=\"dataframe\">\n",
       "  <thead>\n",
       "    <tr style=\"text-align: right;\">\n",
       "      <th></th>\n",
       "      <th>Country</th>\n",
       "      <th>No. of TV Shows</th>\n",
       "    </tr>\n",
       "  </thead>\n",
       "  <tbody>\n",
       "    <tr>\n",
       "      <th>8</th>\n",
       "      <td>Czech Republic</td>\n",
       "      <td>5234</td>\n",
       "    </tr>\n",
       "    <tr>\n",
       "      <th>36</th>\n",
       "      <td>Slovakia</td>\n",
       "      <td>5055</td>\n",
       "    </tr>\n",
       "    <tr>\n",
       "      <th>3</th>\n",
       "      <td>Bulgaria</td>\n",
       "      <td>4819</td>\n",
       "    </tr>\n",
       "    <tr>\n",
       "      <th>50</th>\n",
       "      <td>Hungary</td>\n",
       "      <td>4802</td>\n",
       "    </tr>\n",
       "    <tr>\n",
       "      <th>57</th>\n",
       "      <td>United Kingdom</td>\n",
       "      <td>4551</td>\n",
       "    </tr>\n",
       "  </tbody>\n",
       "</table>\n",
       "</div>"
      ],
      "text/plain": [
       "           Country  No. of TV Shows\n",
       "8   Czech Republic             5234\n",
       "36        Slovakia             5055\n",
       "3         Bulgaria             4819\n",
       "50         Hungary             4802\n",
       "57  United Kingdom             4551"
      ]
     },
     "execution_count": 60,
     "metadata": {},
     "output_type": "execute_result"
    }
   ],
   "source": [
    "netflix[['Country', 'No. of TV Shows']].sort_values('No. of TV Shows', ascending=False).head(5)"
   ]
  },
  {
   "cell_type": "markdown",
   "id": "8cd73074-d06a-4a03-a7dd-19f24f6d14ee",
   "metadata": {},
   "source": [
    "#### Какой процент среднего дохода россиянина будет составлять подписка Netflix?"
   ]
  },
  {
   "cell_type": "code",
   "execution_count": 62,
   "id": "c6e70930-d85d-48b9-9113-9d1b7c99e4e6",
   "metadata": {},
   "outputs": [
    {
     "data": {
      "text/html": [
       "<div>\n",
       "<style scoped>\n",
       "    .dataframe tbody tr th:only-of-type {\n",
       "        vertical-align: middle;\n",
       "    }\n",
       "\n",
       "    .dataframe tbody tr th {\n",
       "        vertical-align: top;\n",
       "    }\n",
       "\n",
       "    .dataframe thead th {\n",
       "        text-align: right;\n",
       "    }\n",
       "</style>\n",
       "<table border=\"1\" class=\"dataframe\">\n",
       "  <thead>\n",
       "    <tr style=\"text-align: right;\">\n",
       "      <th></th>\n",
       "      <th>Cost Per Month - Basic ($)</th>\n",
       "      <th>Cost Per Month - Standard ($)</th>\n",
       "      <th>Cost Per Month - Premium ($)</th>\n",
       "      <th>int_month</th>\n",
       "    </tr>\n",
       "  </thead>\n",
       "  <tbody>\n",
       "    <tr>\n",
       "      <th>28</th>\n",
       "      <td>8.13</td>\n",
       "      <td>10.84</td>\n",
       "      <td>13.56</td>\n",
       "      <td>891</td>\n",
       "    </tr>\n",
       "  </tbody>\n",
       "</table>\n",
       "</div>"
      ],
      "text/plain": [
       "    Cost Per Month - Basic ($)  Cost Per Month - Standard ($)  \\\n",
       "28                        8.13                          10.84   \n",
       "\n",
       "    Cost Per Month - Premium ($)  int_month  \n",
       "28                         13.56        891  "
      ]
     },
     "execution_count": 62,
     "metadata": {},
     "output_type": "execute_result"
    }
   ],
   "source": [
    "full_data[['Cost Per Month - Basic ($)', 'Cost Per Month - Standard ($)', 'Cost Per Month - Premium ($)', 'int_month']][full_data.Country == 'Russia']"
   ]
  },
  {
   "cell_type": "code",
   "execution_count": 67,
   "id": "19acfe43-c6cc-460d-ba79-fbf05ebedcdd",
   "metadata": {},
   "outputs": [
    {
     "data": {
      "text/html": [
       "<div>\n",
       "<style scoped>\n",
       "    .dataframe tbody tr th:only-of-type {\n",
       "        vertical-align: middle;\n",
       "    }\n",
       "\n",
       "    .dataframe tbody tr th {\n",
       "        vertical-align: top;\n",
       "    }\n",
       "\n",
       "    .dataframe thead th {\n",
       "        text-align: right;\n",
       "    }\n",
       "</style>\n",
       "<table border=\"1\" class=\"dataframe\">\n",
       "  <thead>\n",
       "    <tr style=\"text-align: right;\">\n",
       "      <th></th>\n",
       "      <th>Country</th>\n",
       "      <th>Cost Per Month - Basic ($) per avg income %</th>\n",
       "      <th>Cost Per Month - Standard ($) per avg income %</th>\n",
       "      <th>Cost Per Month - Premium ($) per avg income %</th>\n",
       "    </tr>\n",
       "  </thead>\n",
       "  <tbody>\n",
       "    <tr>\n",
       "      <th>28</th>\n",
       "      <td>Russia</td>\n",
       "      <td>0.912458</td>\n",
       "      <td>1.216611</td>\n",
       "      <td>1.521886</td>\n",
       "    </tr>\n",
       "  </tbody>\n",
       "</table>\n",
       "</div>"
      ],
      "text/plain": [
       "   Country  Cost Per Month - Basic ($) per avg income %  \\\n",
       "28  Russia                                     0.912458   \n",
       "\n",
       "    Cost Per Month - Standard ($) per avg income %  \\\n",
       "28                                        1.216611   \n",
       "\n",
       "    Cost Per Month - Premium ($) per avg income %  \n",
       "28                                       1.521886  "
      ]
     },
     "execution_count": 67,
     "metadata": {},
     "output_type": "execute_result"
    }
   ],
   "source": [
    "rus_info = full_data[['Cost Per Month - Basic ($)', 'Cost Per Month - Standard ($)', 'Cost Per Month - Premium ($)']][full_data.Country == 'Russia'].apply(lambda cell: (cell / full_data.int_month[full_data.Country == 'Russia']) * 100)\n",
    "rus_info.columns = ['Cost Per Month - Basic ($) per avg income %', \n",
    "                            'Cost Per Month - Standard ($) per avg income %', \n",
    "                            'Cost Per Month - Premium ($) per avg income %']\n",
    "rus_info.insert(loc=0, column='Country', value='Russia')\n",
    "rus_info"
   ]
  },
  {
   "cell_type": "markdown",
   "id": "a1ecd7ad-fc96-4255-ba85-03e5e6ca818e",
   "metadata": {},
   "source": [
    "#### На каком месте будет Россия, если отсортировать страны по эффективности подписки (Cost Per Title)"
   ]
  },
  {
   "cell_type": "code",
   "execution_count": 117,
   "id": "c248d3b2-6bf4-4912-948b-b5a3eff89ad1",
   "metadata": {},
   "outputs": [
    {
     "data": {
      "text/html": [
       "<div>\n",
       "<style scoped>\n",
       "    .dataframe tbody tr th:only-of-type {\n",
       "        vertical-align: middle;\n",
       "    }\n",
       "\n",
       "    .dataframe tbody tr th {\n",
       "        vertical-align: top;\n",
       "    }\n",
       "\n",
       "    .dataframe thead th {\n",
       "        text-align: right;\n",
       "    }\n",
       "</style>\n",
       "<table border=\"1\" class=\"dataframe\">\n",
       "  <thead>\n",
       "    <tr style=\"text-align: right;\">\n",
       "      <th></th>\n",
       "      <th>Country</th>\n",
       "      <th>Total Library Size</th>\n",
       "      <th>No. of TV Shows</th>\n",
       "      <th>No. of Movies</th>\n",
       "      <th>Cost Per Month - Basic ($)</th>\n",
       "      <th>Cost Per Month - Standard ($)</th>\n",
       "      <th>Cost Per Month - Premium ($)</th>\n",
       "      <th>month</th>\n",
       "      <th>int_month</th>\n",
       "      <th>currency</th>\n",
       "      <th>Continent</th>\n",
       "      <th>Cost Per Title Per Person - Basic</th>\n",
       "      <th>Cost Per Title Per Person - Standard</th>\n",
       "      <th>Cost Per Title Per Person - Premium</th>\n",
       "    </tr>\n",
       "  </thead>\n",
       "  <tbody>\n",
       "    <tr>\n",
       "      <th>0</th>\n",
       "      <td>Argentina</td>\n",
       "      <td>4760</td>\n",
       "      <td>3154</td>\n",
       "      <td>1606</td>\n",
       "      <td>3.74</td>\n",
       "      <td>6.30</td>\n",
       "      <td>9.26</td>\n",
       "      <td>842 $</td>\n",
       "      <td>842</td>\n",
       "      <td>ARS</td>\n",
       "      <td>Sourth America</td>\n",
       "      <td>0.000786</td>\n",
       "      <td>0.000662</td>\n",
       "      <td>0.000486</td>\n",
       "    </tr>\n",
       "    <tr>\n",
       "      <th>1</th>\n",
       "      <td>Austria</td>\n",
       "      <td>5640</td>\n",
       "      <td>3779</td>\n",
       "      <td>1861</td>\n",
       "      <td>9.03</td>\n",
       "      <td>14.67</td>\n",
       "      <td>20.32</td>\n",
       "      <td>4,029 $</td>\n",
       "      <td>4029</td>\n",
       "      <td>EUR</td>\n",
       "      <td>Eurasia</td>\n",
       "      <td>0.001601</td>\n",
       "      <td>0.001301</td>\n",
       "      <td>0.000901</td>\n",
       "    </tr>\n",
       "    <tr>\n",
       "      <th>2</th>\n",
       "      <td>Bolivia</td>\n",
       "      <td>4991</td>\n",
       "      <td>3155</td>\n",
       "      <td>1836</td>\n",
       "      <td>7.99</td>\n",
       "      <td>10.99</td>\n",
       "      <td>13.99</td>\n",
       "      <td>265 $</td>\n",
       "      <td>265</td>\n",
       "      <td>USD</td>\n",
       "      <td>Sourth America</td>\n",
       "      <td>0.001601</td>\n",
       "      <td>0.001101</td>\n",
       "      <td>0.000701</td>\n",
       "    </tr>\n",
       "    <tr>\n",
       "      <th>3</th>\n",
       "      <td>Bulgaria</td>\n",
       "      <td>6797</td>\n",
       "      <td>4819</td>\n",
       "      <td>1978</td>\n",
       "      <td>9.03</td>\n",
       "      <td>11.29</td>\n",
       "      <td>13.54</td>\n",
       "      <td>803 $</td>\n",
       "      <td>803</td>\n",
       "      <td>EUR</td>\n",
       "      <td>Eurasia</td>\n",
       "      <td>0.001329</td>\n",
       "      <td>0.000831</td>\n",
       "      <td>0.000498</td>\n",
       "    </tr>\n",
       "    <tr>\n",
       "      <th>4</th>\n",
       "      <td>Chile</td>\n",
       "      <td>4994</td>\n",
       "      <td>3156</td>\n",
       "      <td>1838</td>\n",
       "      <td>7.07</td>\n",
       "      <td>9.91</td>\n",
       "      <td>12.74</td>\n",
       "      <td>2,227 $</td>\n",
       "      <td>2227</td>\n",
       "      <td>CLP</td>\n",
       "      <td>Sourth America</td>\n",
       "      <td>0.001416</td>\n",
       "      <td>0.000992</td>\n",
       "      <td>0.000638</td>\n",
       "    </tr>\n",
       "  </tbody>\n",
       "</table>\n",
       "</div>"
      ],
      "text/plain": [
       "     Country  Total Library Size  No. of TV Shows  No. of Movies  \\\n",
       "0  Argentina                4760             3154           1606   \n",
       "1    Austria                5640             3779           1861   \n",
       "2    Bolivia                4991             3155           1836   \n",
       "3   Bulgaria                6797             4819           1978   \n",
       "4      Chile                4994             3156           1838   \n",
       "\n",
       "   Cost Per Month - Basic ($)  Cost Per Month - Standard ($)  \\\n",
       "0                        3.74                           6.30   \n",
       "1                        9.03                          14.67   \n",
       "2                        7.99                          10.99   \n",
       "3                        9.03                          11.29   \n",
       "4                        7.07                           9.91   \n",
       "\n",
       "   Cost Per Month - Premium ($)    month  int_month currency       Continent  \\\n",
       "0                          9.26    842 $        842      ARS  Sourth America   \n",
       "1                         20.32  4,029 $       4029      EUR         Eurasia   \n",
       "2                         13.99    265 $        265      USD  Sourth America   \n",
       "3                         13.54    803 $        803      EUR         Eurasia   \n",
       "4                         12.74  2,227 $       2227      CLP  Sourth America   \n",
       "\n",
       "   Cost Per Title Per Person - Basic  Cost Per Title Per Person - Standard  \\\n",
       "0                           0.000786                              0.000662   \n",
       "1                           0.001601                              0.001301   \n",
       "2                           0.001601                              0.001101   \n",
       "3                           0.001329                              0.000831   \n",
       "4                           0.001416                              0.000992   \n",
       "\n",
       "   Cost Per Title Per Person - Premium  \n",
       "0                             0.000486  \n",
       "1                             0.000901  \n",
       "2                             0.000701  \n",
       "3                             0.000498  \n",
       "4                             0.000638  "
      ]
     },
     "execution_count": 117,
     "metadata": {},
     "output_type": "execute_result"
    }
   ],
   "source": [
    "full_data['Cost Per Title Per Person - Basic'] = full_data['Cost Per Month - Basic ($)'] / full_data['Total Library Size']\n",
    "full_data['Cost Per Title Per Person - Standard'] = full_data['Cost Per Month - Standard ($)'] / full_data['Total Library Size'] / 2\n",
    "full_data['Cost Per Title Per Person - Premium'] = full_data['Cost Per Month - Premium ($)'] / full_data['Total Library Size'] / 4\n",
    "full_data.head()"
   ]
  },
  {
   "cell_type": "code",
   "execution_count": 122,
   "id": "0a4b541c-02dc-4eb1-978c-b6ee49d447e2",
   "metadata": {},
   "outputs": [],
   "source": [
    "sorted_by_cpt_basic = np.array(full_data.sort_values('Cost Per Title Per Person - Basic').Country)\n",
    "sorted_by_cpt_standard = np.array(full_data.sort_values('Cost Per Title Per Person - Standard').Country)\n",
    "sorted_by_cpt_premium = np.array(full_data.sort_values('Cost Per Title Per Person - Premium').Country)"
   ]
  },
  {
   "cell_type": "code",
   "execution_count": 123,
   "id": "e09e28ff-7da1-4671-843a-f1b85c0cc758",
   "metadata": {},
   "outputs": [
    {
     "data": {
      "text/plain": [
       "(array([24], dtype=int64),)"
      ]
     },
     "execution_count": 123,
     "metadata": {},
     "output_type": "execute_result"
    }
   ],
   "source": [
    "np.where(sorted_by_cpt_basic == 'Russia')"
   ]
  },
  {
   "cell_type": "code",
   "execution_count": 124,
   "id": "b49c1929-b28c-46cf-9f3c-e399734d361e",
   "metadata": {},
   "outputs": [
    {
     "data": {
      "text/plain": [
       "(array([16], dtype=int64),)"
      ]
     },
     "execution_count": 124,
     "metadata": {},
     "output_type": "execute_result"
    }
   ],
   "source": [
    "np.where(sorted_by_cpt_standard == 'Russia')"
   ]
  },
  {
   "cell_type": "code",
   "execution_count": 125,
   "id": "884985d0-c5d6-4b57-bbcb-872d8a29325b",
   "metadata": {},
   "outputs": [
    {
     "data": {
      "text/plain": [
       "(array([16], dtype=int64),)"
      ]
     },
     "execution_count": 125,
     "metadata": {},
     "output_type": "execute_result"
    }
   ],
   "source": [
    "np.where(sorted_by_cpt_premium == 'Russia')"
   ]
  },
  {
   "cell_type": "markdown",
   "id": "28773c30-8c21-44aa-824e-48c10cde6904",
   "metadata": {},
   "source": [
    "Россия займет 25 место при использовании базовой подписки и 17 при использвании стандартной и премиум"
   ]
  },
  {
   "cell_type": "markdown",
   "id": "738b06a6-1800-4dc2-9bca-6e4bf834bc25",
   "metadata": {
    "tags": []
   },
   "source": [
    "#### В какой стране лучше всего брать VPN для того, чтобы платить за Netflix меньше всего?"
   ]
  },
  {
   "cell_type": "markdown",
   "id": "823e88c2-8652-4b50-94dc-0c8875d990b6",
   "metadata": {},
   "source": [
    "Если подразумевается к какой стране подключить соединение, то к той, где самый низкий Cost Per Title(чтобы иметь не наименьшее количество тайтлов)\n",
    "\n",
    "Для всех видов подписок выбором будет Турция"
   ]
  },
  {
   "cell_type": "code",
   "execution_count": 140,
   "id": "6a17f94f-5ed6-4af3-8f2a-0c2db71bb730",
   "metadata": {},
   "outputs": [
    {
     "data": {
      "text/plain": [
       "'Turkey'"
      ]
     },
     "execution_count": 140,
     "metadata": {},
     "output_type": "execute_result"
    }
   ],
   "source": [
    "list(full_data.sort_values('Cost Per Title Per Person - Basic').Country)[0]"
   ]
  },
  {
   "cell_type": "code",
   "execution_count": 141,
   "id": "3ae91720-a7ee-494f-881c-b189f47a9e06",
   "metadata": {},
   "outputs": [
    {
     "data": {
      "text/plain": [
       "'Turkey'"
      ]
     },
     "execution_count": 141,
     "metadata": {},
     "output_type": "execute_result"
    }
   ],
   "source": [
    "list(full_data.sort_values('Cost Per Title Per Person - Standard').Country)[0]"
   ]
  },
  {
   "cell_type": "code",
   "execution_count": 142,
   "id": "9a57ed0a-ee61-44db-9596-11ea6a8d8efb",
   "metadata": {},
   "outputs": [
    {
     "data": {
      "text/plain": [
       "'Turkey'"
      ]
     },
     "execution_count": 142,
     "metadata": {},
     "output_type": "execute_result"
    }
   ],
   "source": [
    "list(full_data.sort_values('Cost Per Title Per Person - Premium').Country)[0]"
   ]
  },
  {
   "cell_type": "markdown",
   "id": "f7f58c91-8994-4c73-8139-7a7c70a32b23",
   "metadata": {},
   "source": [
    "В случае, если подразумевается жителям какой страны выгоднее подключить VPN, то, по моему мнению, в стране с наивысшим процентом подписки от дохода. Которой является Сан-Марино"
   ]
  },
  {
   "cell_type": "code",
   "execution_count": 143,
   "id": "4f1a6649-f721-4c3b-adae-6d7a959b29e7",
   "metadata": {},
   "outputs": [],
   "source": [
    "full_data['Cost to income Basic'] = full_data['Cost Per Month - Basic ($)'] / full_data.int_month\n",
    "full_data['Cost to income Standard'] = full_data['Cost Per Month - Standard ($)'] / full_data.int_month\n",
    "full_data['Cost to income Premium'] = full_data['Cost Per Month - Premium ($)'] / full_data.int_month"
   ]
  },
  {
   "cell_type": "code",
   "execution_count": 145,
   "id": "9787bb5b-2bc5-4e13-b3b4-2efc06b5b60f",
   "metadata": {},
   "outputs": [
    {
     "data": {
      "text/plain": [
       "'San Marino'"
      ]
     },
     "execution_count": 145,
     "metadata": {},
     "output_type": "execute_result"
    }
   ],
   "source": [
    "list(full_data.sort_values('Cost Per Title Per Person - Basic', ascending=False).Country)[0]"
   ]
  },
  {
   "cell_type": "code",
   "execution_count": 147,
   "id": "85ab8724-bd8f-4061-ab2f-680c544f64d5",
   "metadata": {},
   "outputs": [
    {
     "data": {
      "text/plain": [
       "'San Marino'"
      ]
     },
     "execution_count": 147,
     "metadata": {},
     "output_type": "execute_result"
    }
   ],
   "source": [
    "list(full_data.sort_values('Cost Per Title Per Person - Standard', ascending=False).Country)[0]"
   ]
  },
  {
   "cell_type": "code",
   "execution_count": 148,
   "id": "68d110d9-bb08-4cd2-b374-b19c5b6f70a3",
   "metadata": {},
   "outputs": [
    {
     "data": {
      "text/plain": [
       "'San Marino'"
      ]
     },
     "execution_count": 148,
     "metadata": {},
     "output_type": "execute_result"
    }
   ],
   "source": [
    "list(full_data.sort_values('Cost Per Title Per Person - Premium', ascending=False).Country)[0]"
   ]
  },
  {
   "cell_type": "code",
   "execution_count": null,
   "id": "893cdfab-878d-436f-88aa-ca50cc4426c8",
   "metadata": {},
   "outputs": [],
   "source": []
  }
 ],
 "metadata": {
  "kernelspec": {
   "display_name": "Python 3 (ipykernel)",
   "language": "python",
   "name": "python3"
  },
  "language_info": {
   "codemirror_mode": {
    "name": "ipython",
    "version": 3
   },
   "file_extension": ".py",
   "mimetype": "text/x-python",
   "name": "python",
   "nbconvert_exporter": "python",
   "pygments_lexer": "ipython3",
   "version": "3.9.9"
  }
 },
 "nbformat": 4,
 "nbformat_minor": 5
}
